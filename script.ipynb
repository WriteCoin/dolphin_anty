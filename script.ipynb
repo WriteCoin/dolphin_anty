{
 "cells": [
  {
   "cell_type": "code",
   "execution_count": 1,
   "metadata": {},
   "outputs": [],
   "source": [
    "import requests\n",
    "import conf\n",
    "from abc import abstractmethod\n",
    "from itertools import islice\n",
    "import threading\n",
    "from contextlib import contextmanager\n",
    "import logging\n",
    "import traceback"
   ]
  },
  {
   "cell_type": "code",
   "execution_count": 10,
   "metadata": {},
   "outputs": [],
   "source": [
    "# Сущность антидетект-браузера https://anty.dolphin.ru.com/\n",
    "class AntyDolphinScript:\n",
    "    def __init__(self, auth_token, limit_profiles = None):\n",
    "        # токен - первый входной параметр\n",
    "        self.auth_token = auth_token\n",
    "        # список получаемых профилей\n",
    "        self.profiles = None\n",
    "        # лимит - количество профилей, обрабатываемых за раз \n",
    "        self.limit_profiles = limit_profiles\n",
    "        # количество отработавших профилей (в конце всегда будет равно количеству всех профилей)\n",
    "        self.work_profiles_count = 0\n",
    "        # количество успешно отработанных профилей\n",
    "        self.success_profiles_count = 0\n",
    "        # результаты работы профилей\n",
    "        self.profile_results = {}\n",
    "\n",
    "    # получить профили\n",
    "    def get_profiles(self):\n",
    "        headers = {\"Authorization\": f\"Bearer {self.auth_token}\"}\n",
    "        response = requests.get(\"https://anty-api.com/browser_profiles\", headers=headers)\n",
    "        response_json = response.json()\n",
    "        # print(response_json)\n",
    "        data = response_json[\"data\"]\n",
    "        profiles = {}\n",
    "        if len(data) > 0:\n",
    "            for profile in data:\n",
    "                profiles[profile[\"id\"]] = profile[\"name\"]\n",
    "            self.profiles = profiles\n",
    "            if self.limit_profiles is None:\n",
    "                self.limit_profiles = len(self.profiles)\n",
    "            return\n",
    "        raise Exception(\"Profiles not found\")\n",
    "\n",
    "    @abstractmethod\n",
    "    def getLogger(self, browser_info) -> logging.Logger:\n",
    "        pass\n",
    "\n",
    "    @contextmanager\n",
    "    def automation(self, lock, profile_id, profile_name):\n",
    "        try:\n",
    "            browser_info = self.start(profile_id)\n",
    "            logger = self.getLogger(browser_info)\n",
    "            logger.info(\"Profile has been started\")\n",
    "            yield logger\n",
    "            logger.info(\"Close the browser\")\n",
    "            self.close(profile_id)\n",
    "            logger.info(\"Success\")\n",
    "            lock.acquire()\n",
    "            self.profile_results[profile_id] = {\"successfully\": True}\n",
    "            lock.release()\n",
    "        except Exception as ex:\n",
    "            if not logger is None:\n",
    "                logger.error(traceback.format_exc())\n",
    "                logger.error(ex)\n",
    "            else:\n",
    "                print(traceback.format_exc())\n",
    "                print(ex)\n",
    "            self.close(profile_id)\n",
    "            lock.acquire()\n",
    "            self.profile_results[profile_id] = {\"successfully\": False, \"error\": ex}\n",
    "            lock.release()\n",
    "\n",
    "    def start(self, profile_id):\n",
    "        response = requests.get(\n",
    "            f\"http://localhost:3001/v1.0/browser_profiles/{profile_id}/start?automation=1\"\n",
    "        ).json()\n",
    "        print(response)\n",
    "        if \"errorObject\" in response:\n",
    "            raise Exception(response[\"errorObject\"][\"text\"])\n",
    "        result = {\n",
    "            \"port\": response[\"automation\"][\"port\"],\n",
    "            \"wsEndpoint\": response[\"automation\"][\"wsEndpoint\"]\n",
    "        }\n",
    "        return result\n",
    "\n",
    "    def close(self, profile_id):\n",
    "        response = requests.get(\n",
    "            f\"http://localhost:3001/v1.0/browser_profiles/{profile_id}/stop\"\n",
    "        ).json()\n",
    "        if not response[\"success\"]:\n",
    "            print(response)\n",
    "\n",
    "    def run_profiles(self):\n",
    "        if self.profiles is None:\n",
    "            self.get_profiles()\n",
    "        max_profiles_count = len(self.profiles)\n",
    "        while self.work_profiles_count < max_profiles_count:\n",
    "            current_profiles = dict(\n",
    "                islice(\n",
    "                    self.profiles.items(), self.work_profiles_count, self.work_profiles_count + self.limit_profiles\n",
    "                )\n",
    "            )\n",
    "            print(current_profiles)\n",
    "            profiles_str = \", \".join(list(current_profiles.values()))\n",
    "            print(f\"Profiles for work: {profiles_str}\")\n",
    "            lock = threading.Lock()\n",
    "            threads = []\n",
    "            for profile_id in current_profiles:\n",
    "                profile_name = current_profiles[profile_id]\n",
    "                print(f\"Start automation for profile: {profile_name}\")\n",
    "                # task = asyncio.create_task(automation(profileId))\n",
    "                # task\n",
    "                t = threading.Thread(target=self.automation, args=(lock, profile_id, profile_name))\n",
    "                t.start()\n",
    "                threads.append(t)\n",
    "            for t in threads:\n",
    "                t.join()\n",
    "            self.work_profiles_count += self.limit_profiles\n",
    "\n",
    "        self.work_profiles_count = max_profiles_count\n",
    "\n",
    "        # if (profiles_count >= max_profiles_count):\n",
    "        #     print('All profiles have worked out')\n",
    "        # else:\n",
    "        #     print(f\"{profiles_count}/{max_profiles_count} profiles have worked out\")\n",
    "\n",
    "        self.success_profiles_count = len(\n",
    "            list(\n",
    "                filter(\n",
    "                    lambda el: el,\n",
    "                    [\n",
    "                        profile_result[\"successfully\"]\n",
    "                        for profile_result in self.profile_results.values()\n",
    "                    ],\n",
    "                )\n",
    "            )\n",
    "        )\n",
    "\n",
    "        print(\n",
    "            f\"Successfully completed profiles: {self.success_profiles_count}/{self.work_profiles_count}\"\n",
    "        )"
   ]
  },
  {
   "cell_type": "code",
   "execution_count": null,
   "metadata": {},
   "outputs": [],
   "source": []
  },
  {
   "cell_type": "code",
   "execution_count": 1,
   "metadata": {},
   "outputs": [
    {
     "ename": "NameError",
     "evalue": "name 'AntyDolphinScript' is not defined",
     "output_type": "error",
     "traceback": [
      "\u001b[1;31m---------------------------------------------------------------------------\u001b[0m",
      "\u001b[1;31mNameError\u001b[0m                                 Traceback (most recent call last)",
      "\u001b[1;32mc:\\Users\\WriteCoin\\Sync\\Projects\\Web Automation\\dolphin-anty\\script.ipynb Ячейка 4\u001b[0m in \u001b[0;36m<cell line: 1>\u001b[1;34m()\u001b[0m\n\u001b[1;32m----> <a href='vscode-notebook-cell:/c%3A/Users/WriteCoin/Sync/Projects/Web%20Automation/dolphin-anty/script.ipynb#W3sZmlsZQ%3D%3D?line=0'>1</a>\u001b[0m script \u001b[39m=\u001b[39m AntyDolphinScript(conf\u001b[39m.\u001b[39mAUTH_TOKEN)\n\u001b[0;32m      <a href='vscode-notebook-cell:/c%3A/Users/WriteCoin/Sync/Projects/Web%20Automation/dolphin-anty/script.ipynb#W3sZmlsZQ%3D%3D?line=1'>2</a>\u001b[0m script\u001b[39m.\u001b[39mget_profiles()\n\u001b[0;32m      <a href='vscode-notebook-cell:/c%3A/Users/WriteCoin/Sync/Projects/Web%20Automation/dolphin-anty/script.ipynb#W3sZmlsZQ%3D%3D?line=2'>3</a>\u001b[0m script\u001b[39m.\u001b[39mprofiles\n",
      "\u001b[1;31mNameError\u001b[0m: name 'AntyDolphinScript' is not defined"
     ]
    }
   ],
   "source": [
    "%%capture\n",
    "script = AntyDolphinScript(conf.AUTH_TOKEN)\n",
    "script.get_profiles()\n",
    "script.profiles"
   ]
  },
  {
   "cell_type": "code",
   "execution_count": 4,
   "metadata": {},
   "outputs": [
    {
     "name": "stdout",
     "output_type": "stream",
     "text": [
      "{'success': True, 'automation': {'port': 14969, 'wsEndpoint': '/devtools/browser/67424c13-7472-4745-be31-aea56cb4fb3d'}}\n"
     ]
    },
    {
     "data": {
      "text/plain": [
       "{'port': 14969,\n",
       " 'wsEndpoint': '/devtools/browser/67424c13-7472-4745-be31-aea56cb4fb3d'}"
      ]
     },
     "execution_count": 4,
     "metadata": {},
     "output_type": "execute_result"
    }
   ],
   "source": [
    "%%capture\n",
    "script.start(43499381)"
   ]
  },
  {
   "cell_type": "code",
   "execution_count": 5,
   "metadata": {},
   "outputs": [],
   "source": [
    "%%capture\n",
    "script.close(43499381)"
   ]
  },
  {
   "cell_type": "code",
   "execution_count": 12,
   "metadata": {},
   "outputs": [
    {
     "name": "stdout",
     "output_type": "stream",
     "text": [
      "{46625322: 'TestProfile', 43499381: 'TestProfile3', 42019383: 'TestProfile2', 37182792: 'TestProfile'}\n",
      "Profiles for work: TestProfile, TestProfile3, TestProfile2, TestProfile\n",
      "Start automation for profile: TestProfile\n",
      "Start automation for profile: TestProfile3\n",
      "Start automation for profile: TestProfile2\n",
      "Start automation for profile: TestProfile\n",
      "Successfully completed profiles: 0/4\n"
     ]
    }
   ],
   "source": [
    "%%capture\n",
    "script.run_profiles()"
   ]
  }
 ],
 "metadata": {
  "kernelspec": {
   "display_name": "Python 3",
   "language": "python",
   "name": "python3"
  },
  "language_info": {
   "codemirror_mode": {
    "name": "ipython",
    "version": 3
   },
   "file_extension": ".py",
   "mimetype": "text/x-python",
   "name": "python",
   "nbconvert_exporter": "python",
   "pygments_lexer": "ipython3",
   "version": "3.10.3"
  },
  "orig_nbformat": 4,
  "vscode": {
   "interpreter": {
    "hash": "32d58f98ba1ace3b8b656fc4352cfccd55253b35d8e6fece24872d3cbecf5fbb"
   }
  }
 },
 "nbformat": 4,
 "nbformat_minor": 2
}
